{
  "nbformat": 4,
  "nbformat_minor": 0,
  "metadata": {
    "colab": {
      "provenance": [],
      "authorship_tag": "ABX9TyP8SvLiPMBsxFQ2PeMeraLp",
      "include_colab_link": true
    },
    "kernelspec": {
      "name": "python3",
      "display_name": "Python 3"
    },
    "language_info": {
      "name": "python"
    }
  },
  "cells": [
    {
      "cell_type": "markdown",
      "metadata": {
        "id": "view-in-github",
        "colab_type": "text"
      },
      "source": [
        "<a href=\"https://colab.research.google.com/github/frandalmolin/HTML_CSS/blob/main/desenvolvimento_arrays.ipynb\" target=\"_parent\"><img src=\"https://colab.research.google.com/assets/colab-badge.svg\" alt=\"Open In Colab\"/></a>"
      ]
    },
    {
      "cell_type": "markdown",
      "source": [
        "Declare dois arrays, cada um com um mínimo de cinco elementos, e imprima eles no terminal usando o comando print(). O primeiro array deve conter os produtos de uma loja da sua escolha (loja de comida, materiais de construção, música, etc). O segundo array deve conter os anos de nascimento de familiares e amigos seus. Lembre-se de usar nomes descritivos para nomear cada variável, e de usar o tipo de dado apropriado para cada lista (strings, booleanos, números inteiros, floats)."
      ],
      "metadata": {
        "id": "PByKd0r0KDnV"
      }
    },
    {
      "cell_type": "code",
      "execution_count": 9,
      "metadata": {
        "id": "MNofpkO20Dc3",
        "colab": {
          "base_uri": "https://localhost:8080/"
        },
        "outputId": "6d667f09-dc37-4d8c-aea5-d1bb284ff324"
      },
      "outputs": [
        {
          "output_type": "stream",
          "name": "stdout",
          "text": [
            "['camiseta', 'regata', 'calça', 'bermuda', 'vestido']\n",
            "[1945, 1995, 1998, 1999, 2014]\n"
          ]
        }
      ],
      "source": [
        "roupas =  [\"camiseta\", \"regata\", \"calça\", \"bermuda\", \"vestido\"]\n",
        "print(roupas)\n",
        "\n",
        "nascimento = [1945, 1995, 1998, 1999, 2014]\n",
        "print(nascimento)\n"
      ]
    }
  ]
}